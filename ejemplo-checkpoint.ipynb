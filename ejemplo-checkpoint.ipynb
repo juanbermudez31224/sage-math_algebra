{
 "cells": [
  {
   "cell_type": "code",
   "execution_count": 3,
   "metadata": {},
   "outputs": [],
   "source": [
    "A = Matrix([[1, 2], [3, 4]])\n",
    "b = Matrix([[3, 4], [5, 8]])\n",
    "c = A*b"
   ]
  },
  {
   "cell_type": "code",
   "execution_count": 5,
   "metadata": {},
   "outputs": [
    {
     "name": "stdout",
     "output_type": "stream",
     "text": [
      "matriz A\n",
      "[1 2]\n",
      "[3 4]\n",
      "matriz b\n",
      "[3 4]\n",
      "[5 8]\n",
      "matriz A * matriz b\n",
      "[13 20]\n",
      "[29 44]\n"
     ]
    }
   ],
   "source": [
    "print(\"matriz A\")\n",
    "print(A)\n",
    "print(\"matriz b\")\n",
    "print(b)\n",
    "print(\"matriz A * matriz b\")\n",
    "print(c)"
   ]
  },
  {
   "cell_type": "code",
   "execution_count": null,
   "metadata": {},
   "outputs": [],
   "source": []
  }
 ],
 "metadata": {
  "kernelspec": {
   "display_name": "SageMath 9.3",
   "language": "sage",
   "name": "sagemath"
  },
  "language_info": {
   "codemirror_mode": {
    "name": "ipython",
    "version": 3
   },
   "file_extension": ".py",
   "mimetype": "text/x-python",
   "name": "python",
   "nbconvert_exporter": "python",
   "pygments_lexer": "ipython3",
   "version": "3.7.10"
  }
 },
 "nbformat": 4,
 "nbformat_minor": 4
}
