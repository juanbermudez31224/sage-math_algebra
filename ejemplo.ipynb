{
 "cells": [
  {
   "cell_type": "code",
   "execution_count": 12,
   "metadata": {},
   "outputs": [],
   "source": [
    "#creamos las dos matrices y las guardamos en una variable\n",
    "A = Matrix([[1, 2], [3, 4]])\n",
    "b = Matrix([[3, 4], [5, 8]])\n",
    "#operamos y asignamos el resusltado a una variable\n",
    "c = A-b"
   ]
  },
  {
   "cell_type": "code",
   "execution_count": 8,
   "metadata": {},
   "outputs": [
    {
     "name": "stdout",
     "output_type": "stream",
     "text": [
      "matriz A\n",
      "[1 2]\n",
      "[3 4]\n",
      "matriz b\n",
      "[3 4]\n",
      "[5 8]\n",
      "matriz A - matriz b\n",
      "[-2 -2]\n",
      "[-2 -4]\n"
     ]
    }
   ],
   "source": [
    "#procedo a imprimir cada matriz por aparte \n",
    "print(\"matriz A\")\n",
    "print(A)\n",
    "print(\"matriz b\")\n",
    "print(b)\n",
    "#imprimo el resultado \n",
    "print(\"matriz A - matriz b\")\n",
    "print(c)"
   ]
  },
  {
   "cell_type": "code",
   "execution_count": 4,
   "metadata": {},
   "outputs": [],
   "source": [
    "# Definir las matrices 3x3\n",
    "A = Matrix([[1, 0, 3], [4, 12, 6], [2, 8, 15]])\n",
    "B = Matrix([[3, 8, 7], [7, 5, 4], [7, 6, 4]])\n",
    "# Sumar las matrices\n",
    "C = A + B"
   ]
  },
  {
   "cell_type": "code",
   "execution_count": 5,
   "metadata": {},
   "outputs": [
    {
     "name": "stdout",
     "output_type": "stream",
     "text": [
      "matriz A\n",
      "[ 1  0  3]\n",
      "[ 4 12  6]\n",
      "[ 2  8 15]\n",
      "matriz b\n",
      "[3 8 7]\n",
      "[7 5 4]\n",
      "[7 6 4]\n",
      "matriz A + matriz b\n",
      "[ 4  8 10]\n",
      "[11 17 10]\n",
      "[ 9 14 19]\n"
     ]
    }
   ],
   "source": [
    "#procedo a imprimir cada matriz por aparte \n",
    "print(\"matriz A\")\n",
    "print(A)\n",
    "print(\"matriz b\")\n",
    "print(B)\n",
    "#imprimo el resultado \n",
    "print(\"matriz A + matriz b\")\n",
    "print(C)"
   ]
  },
  {
   "cell_type": "code",
   "execution_count": 6,
   "metadata": {},
   "outputs": [],
   "source": [
    "# Definir las matrices 3x3\n",
    "A = Matrix([[1, 0, 3], [4, 12, 6], [2, 8, 15]])\n",
    "B = Matrix([[3, 8, 7], [7, 5, 4], [7, 6, 4]])\n",
    "# multiplicar las matrices las matrices\n",
    "C = A * B"
   ]
  },
  {
   "cell_type": "code",
   "execution_count": 7,
   "metadata": {},
   "outputs": [
    {
     "name": "stdout",
     "output_type": "stream",
     "text": [
      "matriz A\n",
      "[ 1  0  3]\n",
      "[ 4 12  6]\n",
      "[ 2  8 15]\n",
      "matriz b\n",
      "[3 8 7]\n",
      "[7 5 4]\n",
      "[7 6 4]\n",
      "matriz A + matriz b\n",
      "[ 24  26  19]\n",
      "[138 128 100]\n",
      "[167 146 106]\n"
     ]
    }
   ],
   "source": [
    "#procedo a imprimir cada matriz por aparte \n",
    "print(\"matriz A\")\n",
    "print(A)\n",
    "print(\"matriz b\")\n",
    "print(B)\n",
    "#imprimo el resultado \n",
    "print(\"matriz A * matriz b\")\n",
    "print(C)"
   ]
  },
  {
   "cell_type": "code",
   "execution_count": 10,
   "metadata": {},
   "outputs": [
    {
     "name": "stdout",
     "output_type": "stream",
     "text": [
      "por cual numero desea multiplicar la matriz A 5\n",
      "matriz A\n",
      "[ 1  0  3]\n",
      "[ 4 12  6]\n",
      "[ 2  8 15]\n",
      "matriz A * escalar\n",
      "[ 5  0 15]\n",
      "[20 60 30]\n",
      "[10 40 75]\n"
     ]
    }
   ],
   "source": [
    "#creamos la matriz A\n",
    "A = Matrix([[1, 0, 3], [4, 12, 6], [2, 8, 15]])\n",
    "#le pedimos al usuario el escalar \n",
    "escalar= int(input(\"por cual numero desea multiplicar la matriz A \"))\n",
    "#hacemos la operacion y la guardamos en una variable\n",
    "E= escalar*A\n",
    "#imprimimos la matriz A\n",
    "print(\"matriz A\")\n",
    "print(A)\n",
    "#imprimimos el resultado \n",
    "print(\"matriz A * escalar\")\n",
    "print(E)"
   ]
  },
  {
   "cell_type": "code",
   "execution_count": 1,
   "metadata": {},
   "outputs": [
    {
     "name": "stdout",
     "output_type": "stream",
     "text": [
      "La matriz N sin transponer es : \n",
      "[15  9  7]\n",
      "[ 1 45  6]\n",
      "[ 7  5  7]\n",
      "La matriz N transpuesta es :\n",
      "[15  1  7]\n",
      "[ 9 45  5]\n",
      "[ 7  6  7]\n"
     ]
    }
   ],
   "source": [
    "#creamos la matriz N\n",
    "N=Matrix([[15,9,7],[1,45,6],[7,5,7]])\n",
    "#imprimimos la matriz sin transponer\n",
    "print(\"La matriz N sin transponer es : \")\n",
    "print(N)\n",
    "#transponemos la matriz con la funcion transpose()\n",
    "matriz_transpuesta=N.transpose()\n",
    "#imprimimos la matriz N transpuesta\n",
    "print(\"La matriz N transpuesta es :\")\n",
    "print(matriz_transpuesta)"
   ]
  },
  {
   "cell_type": "code",
   "execution_count": null,
   "metadata": {},
   "outputs": [],
   "source": []
  }
 ],
 "metadata": {
  "kernelspec": {
   "display_name": "SageMath 9.3",
   "language": "sage",
   "name": "sagemath"
  },
  "language_info": {
   "codemirror_mode": {
    "name": "ipython",
    "version": 3
   },
   "file_extension": ".py",
   "mimetype": "text/x-python",
   "name": "python",
   "nbconvert_exporter": "python",
   "pygments_lexer": "ipython3",
   "version": "3.7.10"
  }
 },
 "nbformat": 4,
 "nbformat_minor": 4
}
